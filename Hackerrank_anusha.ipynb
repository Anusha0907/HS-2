{
  "nbformat": 4,
  "nbformat_minor": 0,
  "metadata": {
    "colab": {
      "provenance": [],
      "authorship_tag": "ABX9TyO1fxmWa4WdNVae/C4DHjF8",
      "include_colab_link": true
    },
    "kernelspec": {
      "name": "python3",
      "display_name": "Python 3"
    },
    "language_info": {
      "name": "python"
    }
  },
  "cells": [
    {
      "cell_type": "markdown",
      "metadata": {
        "id": "view-in-github",
        "colab_type": "text"
      },
      "source": [
        "<a href=\"https://colab.research.google.com/github/Anusha0907/Hackerrank_anusha/blob/main/Hackerrank_anusha.ipynb\" target=\"_parent\"><img src=\"https://colab.research.google.com/assets/colab-badge.svg\" alt=\"Open In Colab\"/></a>"
      ]
    },
    {
      "cell_type": "markdown",
      "source": [
        "## Task - I\n",
        "The provided code stub reads and integer, n, from STDIN. For all non-negative integers i < n, \n",
        "$y=x^2$\n",
        "\n",
        "n = 3 \n",
        "\n",
        "The list of non-negative integers that are less than n = 3 is [ 0, 1, 2 ]. Print the square of each number on a separate line.\\\n",
        "0\\\n",
        "1\\\n",
        "4\n",
        "\n",
        "## Input Format\n",
        "The first and the only line contains the integer, n.\n",
        "\n",
        "## Constraints\n",
        "1 ≤ n ≤ 20\n",
        "\n",
        "## Output Format\n",
        "Print n lines, one corresponding to each i.\n",
        "\n",
        "## Sample Input 0\n",
        "5\n",
        "\n",
        "## Sample Output  0\n",
        "0\\\n",
        "1\\\n",
        "4\\\n",
        "9\\\n",
        "16"
      ],
      "metadata": {
        "id": "3FFpa_9y7ZxA"
      }
    },
    {
      "cell_type": "code",
      "source": [
        "if __name__ == '__main__':\n",
        "    n = int(input())\n",
        "    for i in range(0, n):\n",
        "        print(i ** 2)"
      ],
      "metadata": {
        "colab": {
          "base_uri": "https://localhost:8080/"
        },
        "id": "G2Iark3u_0Wn",
        "outputId": "112cff01-574b-4aa7-a0d4-0ed94a7b887d"
      },
      "execution_count": 4,
      "outputs": [
        {
          "output_type": "stream",
          "name": "stdout",
          "text": [
            "5\n",
            "0\n",
            "1\n",
            "4\n",
            "9\n",
            "16\n"
          ]
        }
      ]
    },
    {
      "cell_type": "markdown",
      "source": [
        "## Task - II\n",
        "An extra day is added to the calendar almost every four years as February 29, and the day is called a leap day. It corrects the calendar for the fact that our planet takes approximately 365.25 days to orbit the sun. A leap year contains a leap day.\n",
        "\n",
        "In the Gregorian calendar, three conditions are used to identify leap years:\n",
        "\n",
        "The year can be evenly divided by 4, is a leap year, unless:\n",
        "The year can be evenly divided by 100, it is NOT a leap year, unless:\n",
        "The year is also evenly divisible by 400. Then it is a leap year.\n",
        "This means that in the Gregorian calendar, the years 2000 and 2400 are leap years, while 1800, 1900, 2100, 2200, 2300 and 2500 are NOT leap years. Source\n",
        "\n",
        "Given a year, determine whether it is a leap year. If it is a leap year, return the Boolean True, otherwise return False.\n",
        "\n",
        "Note that the code stub provided reads from STDIN and passes arguments to the is_leap function. It is only necessary to complete the is_leap function.\n",
        "\n",
        "## Input Format\n",
        "Read , the year to test.\n",
        "\n",
        "## Constraints\n",
        "1900 ≤ year ≤ $10^5$\n",
        "\n",
        "## Output Format\n",
        "The function must return a Boolean value (True/False). Output is handled by the provided code stub.\n",
        "\n",
        "## Sample Input 0\n",
        "1990\n",
        "\n",
        "## Sample Output 0\n",
        "False\n",
        "\n",
        "##Explanation 0\n",
        "1990 is not a multiple of 4 hence it's not a leap year."
      ],
      "metadata": {
        "id": "wAep0bvKDf54"
      }
    },
    {
      "cell_type": "code",
      "source": [
        "def is_leap(year):\n",
        "    \n",
        "    # to check the leap year\n",
        "    leap = False\n",
        "    \n",
        "    # if statement that contains multiple conditions\n",
        "    if ((year % 400 == 0) and (year % 100 == 0)) | ((year % 4 ==0) and (year % 100 != 0)):\n",
        "        \n",
        "       # change leap to True\n",
        "        leap = True\n",
        "    \n",
        "    return leap\n",
        "\n",
        "year = int(input())\n",
        "print(is_leap(year))"
      ],
      "metadata": {
        "colab": {
          "base_uri": "https://localhost:8080/"
        },
        "id": "Ums-PpvdFl0l",
        "outputId": "76b0e50b-a928-4138-e8d6-1e3005046019"
      },
      "execution_count": 13,
      "outputs": [
        {
          "output_type": "stream",
          "name": "stdout",
          "text": [
            "2000\n",
            "True\n"
          ]
        }
      ]
    },
    {
      "cell_type": "markdown",
      "source": [
        "## Task - III\n",
        "The included code stub will read an integer,  n, from STDIN.\n",
        "\n",
        "Without using any string methods, try to print the following:\\\n",
        "123...n   \n",
        "\n",
        "Note that \"\" represents the consecutive values in between.\\\n",
        "## Example:\n",
        "n=5\\\n",
        "Print the string 12345.\n",
        "\n",
        "## Input Format:\n",
        "The first line contains an integer n.\n",
        "\n",
        "## Constraints:\n",
        "1<=n<=150\n",
        "\n",
        "## Output Format:\n",
        "Print the list of integers from 1 through n as a string, without spaces.\n",
        "\n",
        "## Sample Input 0\n",
        "3\n",
        "\n",
        "## Sample Output 0\n",
        "123"
      ],
      "metadata": {
        "id": "nFSdIGvwHG_1"
      }
    },
    {
      "cell_type": "code",
      "source": [
        "if __name__ == '__main__':\n",
        "    n = int(input())\n",
        "    for i in range(n):\n",
        "        print(i+1,end=\"\")"
      ],
      "metadata": {
        "colab": {
          "base_uri": "https://localhost:8080/"
        },
        "id": "QnSJlGXXIzWr",
        "outputId": "05d131e4-d376-465f-9821-2d85a55f2440"
      },
      "execution_count": 9,
      "outputs": [
        {
          "output_type": "stream",
          "name": "stdout",
          "text": [
            "3\n",
            "123"
          ]
        }
      ]
    },
    {
      "cell_type": "markdown",
      "source": [
        "## Task - IV\n",
        "This tool returns successive r length permutations of elements in an iterable.\n",
        "\n",
        "If r is not specified or is None, then r defaults to the length of the iterable, and all possible full length permutations are generated.\n",
        "\n",
        "Permutations are printed in a lexicographic sorted order. So, if the input iterable is sorted, the permutation tuples will be produced in a sorted order.\n",
        "\n",
        "Sample Code\n",
        "```\n",
        ">>> from itertools import permutations\n",
        ">>> print permutations(['1','2','3'])\n",
        "<itertools.permutations object at 0x02A45210>\n",
        ">>> \n",
        ">>> print list(permutations(['1','2','3']))\n",
        "[('1', '2', '3'), ('1', '3', '2'), ('2', '1', '3'), ('2', '3', '1'), ('3', '1', '2'), ('3', '2', '1')]\n",
        ">>> \n",
        ">>> print list(permutations(['1','2','3'],2))\n",
        "[('1', '2'), ('1', '3'), ('2', '1'), ('2', '3'), ('3', '1'), ('3', '2')]\n",
        ">>>\n",
        ">>> print list(permutations('abc',3))\n",
        "[('a', 'b', 'c'), ('a', 'c', 'b'), ('b', 'a', 'c'), ('b', 'c', 'a'), ('c', 'a', 'b'), ('c', 'b', 'a')]\n",
        "```\n",
        "You are given a string S.\n",
        "\n",
        "Your task is to print all possible permutations of size k of the string in lexicographic sorted order.\n",
        "\n",
        "##Input Format\n",
        "A single line containing the space separated string S and the integer value k.\n",
        "\n",
        "##Constraints\n",
        "0 < k <= len(S)\n",
        "The string contains only UPPERCASE characters\n",
        "\n",
        "##Output Format\n",
        "Print the permutations of the string S on separate lines\n",
        "\n",
        "##Sample Input\n",
        "`HACK 2`\n",
        "\n",
        "##Sample Output\n",
        "```\n",
        "AC\n",
        "AH\n",
        "AK\n",
        "CA\n",
        "CH\n",
        "CK\n",
        "HA\n",
        "HC\n",
        "HK\n",
        "KA\n",
        "KC\n",
        "KH\n",
        "```\n",
        "##Explaination\n",
        "All possible size 2 permutations of the string “HACK” are printed in lexicographic sorted order."
      ],
      "metadata": {
        "id": "IakwTANBJ3wD"
      }
    },
    {
      "cell_type": "code",
      "source": [
        "from itertools import permutations\n",
        "str1, int1 = input().split()\n",
        "\n",
        "for i in sorted(permutations(str1, int(int1))):\n",
        "    print (''.join(i))"
      ],
      "metadata": {
        "colab": {
          "base_uri": "https://localhost:8080/"
        },
        "id": "Lu_Pope8LQUC",
        "outputId": "af807295-9013-4218-92ff-57518fa7b267"
      },
      "execution_count": 17,
      "outputs": [
        {
          "output_type": "stream",
          "name": "stdout",
          "text": [
            "HACK 2\n",
            "AC\n",
            "AH\n",
            "AK\n",
            "CA\n",
            "CH\n",
            "CK\n",
            "HA\n",
            "HC\n",
            "HK\n",
            "KA\n",
            "KC\n",
            "KH\n"
          ]
        }
      ]
    },
    {
      "cell_type": "markdown",
      "source": [
        "## Task - V\n",
        "This tool returns the r length subsequences of elements from the input iterable.\n",
        "Combinations are emitted in lexicographic sorted order. So, if the input iterable is sorted, the combination tuples will be produced in sorted order.\n",
        "\n",
        "Sample Code :\n",
        "```\n",
        ">>> from itertools import combinations\n",
        ">>> \n",
        ">>> print list(combinations('12345',2))\n",
        "[('1', '2'), ('1', '3'), ('1', '4'), ('1', '5'), ('2', '3'), ('2', '4'), ('2', '5'), ('3', '4'), ('3', '5'), ('4', '5')]\n",
        ">>> \n",
        ">>> A = [1,1,3,3,3]\n",
        ">>> print list(combinations(A,4))\n",
        "[(1, 1, 3, 3), (1, 1, 3, 3), (1, 1, 3, 3), (1, 3, 3, 3), (1, 3, 3, 3)]\n",
        "```\n",
        "You are given a string S.\n",
        "Your task is to print all possible combinations, up to size k, of the string in lexicographic sorted order.\n",
        "##Input Format :\n",
        "A single line containing the string S and integer value k separated by a space.\n",
        "##Constraints :\n",
        "0 < k <= len(S)\n",
        "The string contains only UPPERCASE characters.\n",
        "##Output Format :\n",
        "Print the different combinations of string S on separate lines.\n",
        "##Sample Input :\n",
        "```\n",
        "HACK 2\n",
        "```\n",
        "##Sample Output :\n",
        "```\n",
        "A\n",
        "C\n",
        "H\n",
        "K\n",
        "AC\n",
        "AH\n",
        "AK\n",
        "CH\n",
        "CK\n",
        "HK\n",
        "\n",
        "```\n",
        "\n"
      ],
      "metadata": {
        "id": "FjogyeTGLjCP"
      }
    },
    {
      "cell_type": "code",
      "source": [
        "from itertools import combinations\n",
        "\n",
        "ios = input().split()\n",
        "S = ios[0]\n",
        "n = int(ios[1])\n",
        "for i in range(1,n+1):\n",
        "    for j in combinations(sorted(S),i):\n",
        "        print(\"\".join(j))"
      ],
      "metadata": {
        "colab": {
          "base_uri": "https://localhost:8080/"
        },
        "id": "mr9I2JG-OLik",
        "outputId": "8c65bddc-ea0a-4181-be86-ad334428eb0f"
      },
      "execution_count": 19,
      "outputs": [
        {
          "output_type": "stream",
          "name": "stdout",
          "text": [
            "HACK 2\n",
            "A\n",
            "C\n",
            "H\n",
            "K\n",
            "AC\n",
            "AH\n",
            "AK\n",
            "CH\n",
            "CK\n",
            "HK\n"
          ]
        }
      ]
    },
    {
      "cell_type": "markdown",
      "source": [
        "## Task - VI\n",
        "This tool returns r length subsequences of elements from the input iterable allowing individual elements to be repeated more than once.\n",
        "Combinations are emitted in lexicographic sorted order. So, if the input iterable is sorted, the combination tuples will be produced in sorted order.\n",
        "\n",
        "##Sample Code :\n",
        "```\n",
        ">>> from itertools import combinations_with_replacement\n",
        ">>> \n",
        ">>> print list(combinations_with_replacement('12345',2))\n",
        "[('1', '1'), ('1', '2'), ('1', '3'), ('1', '4'), ('1', '5'), ('2', '2'), ('2', '3'), ('2', '4'), ('2', '5'), ('3', '3'), ('3', '4'), ('3', '5'), ('4', '4'), ('4', '5'), ('5', '5')]\n",
        ">>> \n",
        ">>> A = [1,1,3,3,3]\n",
        ">>> print list(combinations(A,2))\n",
        "[(1, 1), (1, 3), (1, 3), (1, 3), (1, 3), (1, 3), (1, 3), (3, 3), (3, 3), (3, 3)]\n",
        "```\n",
        "You are given a string S.\n",
        "Your task is to print all possible size k replacement combinations of the string in lexicographic sorted order.\n",
        "##Input Format :\n",
        "A single line containing the string S and integer value k separated by a space.\n",
        "##Constraints :\n",
        "0 < k <= len(s)\n",
        "The string contains only UPPERCASE characters.\n",
        "##Output Format :\n",
        "Print the combinations with their replacements of string S on separate lines.\n",
        "##Sample Input :\n",
        "`HACK 2`\n",
        "##Sample Output :\n",
        "```\n",
        "AA\n",
        "AC\n",
        "AH\n",
        "AK\n",
        "CC\n",
        "CH\n",
        "CK\n",
        "HH\n",
        "HK\n",
        "KK\n",
        "```"
      ],
      "metadata": {
        "id": "ujGdCcf_TgvG"
      }
    },
    {
      "cell_type": "code",
      "source": [
        "from itertools import combinations_with_replacement\n",
        "\n",
        "an = input().split();\n",
        "char = sorted(an[0]);\n",
        "N = int(an[1]);\n",
        "\n",
        "for i in combinations_with_replacement(char,N):\n",
        "    print(''.join(i))"
      ],
      "metadata": {
        "colab": {
          "base_uri": "https://localhost:8080/"
        },
        "id": "GBTSTUR3VJgq",
        "outputId": "e5f49f8b-d66b-4bca-d671-08d65a142df9"
      },
      "execution_count": 24,
      "outputs": [
        {
          "output_type": "stream",
          "name": "stdout",
          "text": [
            "HACK 2\n",
            "AA\n",
            "AC\n",
            "AH\n",
            "AK\n",
            "CC\n",
            "CH\n",
            "CK\n",
            "HH\n",
            "HK\n",
            "KK\n"
          ]
        }
      ]
    },
    {
      "cell_type": "markdown",
      "source": [
        "## Task\n",
        "Let’s learn about list comprehension! You are given three integers x, y, and z representing the dimensions of a cuboid along with an integer n. Print a list of all possible coordinates given by (i, j, k) on a 3D grid where the sum of i + j + k is not equal to n. Here, 0 <= i <= x; 0 <= j <= y; 0 <= k <= z. Please use list comprehensions rather than multiple loops, as a learning exercise.\n",
        "Example\n",
        "\n",
        "x = 1\n",
        "\n",
        "y = 1\n",
        "\n",
        "z = 2\n",
        "\n",
        "n = 3 \n",
        "\n",
        "All permutations of [i, j, k] are:\n",
        "```\n",
        "[[0, 0, 0], [0, 0, 1], [0, 0, 2], [0, 1, 0], [0, 1, 1], [0, 1, 2], [1, 0, 0], [1, 0, 1], [1, 0, 2], [1, 1, 0], [1, 1, 1], [1, 1, 2]].\n",
        "```\n",
        "Print an array of the elements that do not sum to n = 3.\n",
        "```\n",
        "[[0, 0, 0], [0, 0, 1], [0, 0, 2], [0, 1, 0], [0, 1, 1], [1, 0, 0], [1, 0, 1],  [1, 1, 0],  [1, 1, 2]]\n",
        "```\n",
        "##Input Format\n",
        "Four integers x, y, z and n, each on a separate line.\n",
        "##Constraints\n",
        "Print the list in lexicographic increasing order.\n",
        "##Sample Input 0\n",
        "```\n",
        "1\n",
        "1\n",
        "1\n",
        "2\n",
        " \n",
        "```\n",
        "##Sample Output 0\n",
        "```\n",
        "[[0, 0, 0], [0, 0, 1], [0, 1, 0], [1, 0, 0], [1, 1, 1]]\n",
        "```\n",
        "##Explanation 0\n",
        "Each variable x, y and z will have values of 0 or 1. All permutations of lists in the form [i, j, k] = [[0, 0, 0], [0, 0, 1], [0, 1, 0], [0, 1, 1], [1, 0, 0], [1, 0, 1],  [1, 1, 0]].\n",
        "\n",
        "Remove all arrays that sum to n = 2 to leave only the valid permutations.\n",
        "##Sample Input 1\n",
        "```\n",
        "2\n",
        "2\n",
        "2\n",
        "2\n",
        " \n",
        "```\n",
        "##Sample Output 1\n",
        "```\n",
        "[[0, 0, 0], [0, 0, 1], [0, 1, 0], [0, 1, 2], [0, 2, 1], [0, 2, 2], [1, 0, 0], [1, 0, 2], [1, 1, 1], [1, 1, 2], [1, 2, 0], [1, 2, 1], [1, 2, 2], [2, 0, 1], [2, 0, 2], [2, 1, 0], [2, 1, 1], [2, 1, 2], [2, 2, 0], [2, 2, 1], [2, 2, 2]]\n",
        "```"
      ],
      "metadata": {
        "id": "7Yj_hkVPWJ9U"
      }
    },
    {
      "cell_type": "code",
      "source": [
        "if __name__ == '__main__':\n",
        "    x = int(input())\n",
        "    y = int(input())\n",
        "    z = int(input())\n",
        "    n = int(input())\n",
        "    print(list([i,j,k] for i in range(x+1) for j in range(y+1) for k in range(z+1)  if i+j+k !=n))"
      ],
      "metadata": {
        "colab": {
          "base_uri": "https://localhost:8080/"
        },
        "id": "qtR39a9WXXth",
        "outputId": "05e68eba-4d8d-48e5-a4d6-c78fd0295220"
      },
      "execution_count": 27,
      "outputs": [
        {
          "output_type": "stream",
          "name": "stdout",
          "text": [
            "2\n",
            "2\n",
            "2\n",
            "2\n",
            "[[0, 0, 0], [0, 0, 1], [0, 1, 0], [0, 1, 2], [0, 2, 1], [0, 2, 2], [1, 0, 0], [1, 0, 2], [1, 1, 1], [1, 1, 2], [1, 2, 0], [1, 2, 1], [1, 2, 2], [2, 0, 1], [2, 0, 2], [2, 1, 0], [2, 1, 1], [2, 1, 2], [2, 2, 0], [2, 2, 1], [2, 2, 2]]\n"
          ]
        }
      ]
    },
    {
      "cell_type": "markdown",
      "source": [
        "## Task - VII\n",
        "Given the participants' score sheet for your University Sports Day, you are required to find the runner-up score. You are given n scores. Store them in a list and find the score of the runner-up.\n",
        "##Input Format :\n",
        "The first line contains n. The second line contains an array A[] of n integers each separated by a space.\n",
        "##Constraints :\n",
        "2 <= n <= 10\n",
        "-100 <= A[i] <= 100\n",
        "##Output Format :\n",
        "Print the runner-up score.\n",
        "##Sample Input :\n",
        "```\n",
        "5\n",
        "2 3 6 6 5\n",
        "```\n",
        "##Sample Output :\n",
        "`5`\n",
        "##Explanation :\n",
        "Given list is [2,3,6,6,5]. The maximum score is 6, second maximum is 5. Hence, we print 5 as the runner-up score."
      ],
      "metadata": {
        "id": "LiJzTv24X83y"
      }
    },
    {
      "cell_type": "code",
      "source": [
        "if __name__ == '__main__':\n",
        "    n = int(input())\n",
        "    arr = map(int, input().split())\n",
        "\n",
        "    print(sorted(set(arr), reverse=True)[1])"
      ],
      "metadata": {
        "colab": {
          "base_uri": "https://localhost:8080/"
        },
        "id": "nnY4ZmjpYiTo",
        "outputId": "6413e07e-3222-4743-f55f-c8517f1f7b0d"
      },
      "execution_count": 30,
      "outputs": [
        {
          "output_type": "stream",
          "name": "stdout",
          "text": [
            "5\n",
            "2 3 6 6 5\n",
            "5\n"
          ]
        }
      ]
    },
    {
      "cell_type": "markdown",
      "source": [
        "## Task - VIII\n",
        "Given the names and grades for each student in a class of N students, store them in a nested list and print the name(s) of any student(s) having the second lowest grade.\\\n",
        "Note: If there are multiple students with the second lowest grade, order their names alphabetically and print each name on a new line.\n",
        "##Example\n",
        "*records*  = [[ “chi”, 20.0]], [“beta”, 50.0], [“alpha”, 50.0]\n",
        "\n",
        "The ordered list of scores is [20.0, 50.0], so the second lowest score is 50.0. There are two students with that score: [“beta”, “alpha”]. Ordered alphabetically, the names are printed as:\n",
        "```\n",
        "alpha\n",
        "beta\n",
        " \n",
        "```\n",
        "##Input Format\n",
        "The first line contains an integer,n, the number of students.\\\n",
        "The 2N subsequent lines describe each student over lines.\n",
        "*  The first line contains a student’s name.\n",
        "*  The second line contains their grade.\n",
        "\n",
        "##Constraints\n",
        "* 2 <= N <= 5\n",
        "* There will always be one or more students having the second lowest grade.\n",
        "\n",
        "##Output Format\n",
        "Print the name(s) of any student(s) having the second lowest grade in. If there are multiple students, order their names alphabetically and print each one on a new line.\n",
        "##Sample Input 0\n",
        "```\n",
        "5\n",
        "Harry\n",
        "37.21\n",
        "Berry\n",
        "37.21\n",
        "Tina\n",
        "37.2\n",
        "Akriti\n",
        "41\n",
        "Harsh\n",
        "39\n",
        "```\n",
        "##Sample Output 0\n",
        "```\n",
        "Berry\n",
        "Harry\n",
        "```\n",
        "##Explanation 0\n",
        "There are 5 students in this class whose names and grades are assembled to build the following list:\n",
        "```\n",
        "python students = [[‘Harry’, 37.21], [‘Berry’, 37.21], [‘Tina’, 37.2], [‘Akriti’, 41], [‘Harsh’, 39]]\n",
        "```\n",
        "The lowest grade of 37.2 belongs to Tina. The second lowest grade of 37.21 belongs to both Harry and Berry, so we order their names alphabetically and print each name on a new line.\n"
      ],
      "metadata": {
        "id": "d3Jna-Z9ansI"
      }
    },
    {
      "cell_type": "code",
      "source": [
        "if __name__ == '__main__':\n",
        "    alist = []\n",
        "    for i in range(int(input())):\n",
        "        name = input()\n",
        "        score = float(input())\n",
        "        alist.append([name, score])\n",
        "second_highest = sorted(set([score for name, score in alist]))[1]\n",
        "print('\\n'.join(sorted([name for name, score in alist if score == second_highest])))"
      ],
      "metadata": {
        "id": "PHc03lJ4cylN"
      },
      "execution_count": null,
      "outputs": []
    },
    {
      "cell_type": "markdown",
      "source": [],
      "metadata": {
        "id": "TVplKKogc5QV"
      }
    },
    {
      "cell_type": "markdown",
      "source": [],
      "metadata": {
        "id": "2xC_NfOWc5Fx"
      }
    }
  ]
}